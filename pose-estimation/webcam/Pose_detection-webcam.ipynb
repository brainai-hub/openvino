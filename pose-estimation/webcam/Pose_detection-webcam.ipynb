{
 "cells": [
  {
   "cell_type": "markdown",
   "id": "381af4d8-5acb-45ef-b77b-5e3ffe98c86d",
   "metadata": {},
   "source": [
    "# Live Human Pose Estimation with OpenVINO™ + Webcam"
   ]
  },
  {
   "cell_type": "markdown",
   "id": "bcb6bb79-553a-4f87-b56c-c1d3d0c70f60",
   "metadata": {},
   "source": [
    "<center><img src=\"https://user-images.githubusercontent.com/4547501/138267961-41d754e7-59db-49f6-b700-63c3a636fad7.gif\" alt=\"Store\"></center>\n",
    "\n",
    "Pose estimation predicts the 2D position and orientation of each person in an image or a video. Skeletons consisting of 18 predefined key points (joints) and 19 connections between them (limbs) are visualized as an overlay on the images or video."
   ]
  },
  {
   "cell_type": "code",
   "execution_count": null,
   "id": "2f01cf5d-3a18-4097-9051-13a666c15599",
   "metadata": {},
   "outputs": [],
   "source": [
    "#%pip install -q \"openvino>=2023.1.0\"\n",
    "#%pip install pytube"
   ]
  },
  {
   "cell_type": "markdown",
   "id": "041a90fd-d3ca-4578-858f-dcf8b0875575",
   "metadata": {},
   "source": [
    "## Import libraries"
   ]
  },
  {
   "cell_type": "code",
   "execution_count": null,
   "id": "ad1504ef-5042-46a1-8b49-89848727bbad",
   "metadata": {
    "tags": []
   },
   "outputs": [],
   "source": [
    "# Import the necessary libraries to utilize OpenVINO.\n",
    "import collections\n",
    "import sys\n",
    "import time\n",
    "from pathlib import Path\n",
    "\n",
    "import cv2\n",
    "import numpy as np\n",
    "from IPython import display\n",
    "from numpy.lib.stride_tricks import as_strided\n",
    "import openvino as ov\n",
    "\n",
    "from decoder import OpenPoseDecoder\n",
    "import utils.notebook_utils as utils\n",
    "\n",
    "import collections\n",
    "import sys\n",
    "import time\n",
    "from pathlib import Path"
   ]
  },
  {
   "cell_type": "markdown",
   "id": "ba83af46-8458-4701-91ed-f7095a82d724",
   "metadata": {},
   "source": [
    "## The model"
   ]
  },
  {
   "cell_type": "markdown",
   "id": "bb011baf-726f-4a55-aa02-8c9fa9bcb8dc",
   "metadata": {},
   "source": [
    "### Download the model"
   ]
  },
  {
   "cell_type": "code",
   "execution_count": null,
   "id": "71621519-61ec-4155-aa00-0050847ca9eb",
   "metadata": {
    "tags": []
   },
   "outputs": [],
   "source": [
    "# A directory where the model will be downloaded.\n",
    "base_model_dir = Path(\"model\")\n",
    "\n",
    "# The name of the model from Open Model Zoo.\n",
    "model_name = \"human-pose-estimation-0001\"\n",
    "# Selected precision (FP32, FP16, FP16-INT8).\n",
    "precision = \"FP16-INT8\"\n",
    "\n",
    "model_path = base_model_dir / \"intel\" / model_name / precision / f\"{model_name}.xml\"\n",
    "\n",
    "if not model_path.exists():\n",
    "    model_url_dir = f\"https://storage.openvinotoolkit.org/repositories/open_model_zoo/2022.1/models_bin/3/{model_name}/{precision}/\"\n",
    "    utils.download_file(model_url_dir + model_name + '.xml', model_path.name, model_path.parent)\n",
    "    utils.download_file(model_url_dir + model_name + '.bin', model_path.with_suffix('.bin').name, model_path.parent)"
   ]
  },
  {
   "cell_type": "markdown",
   "id": "c7c5ac3a-104e-429e-8778-9c5d00a83813",
   "metadata": {},
   "source": [
    "### Load the model"
   ]
  },
  {
   "cell_type": "code",
   "execution_count": null,
   "id": "109216cf-b18e-491a-88e5-729675b28f85",
   "metadata": {
    "tags": []
   },
   "outputs": [],
   "source": [
    "# Select the device to use the product or service\n",
    "import ipywidgets as widgets\n",
    "\n",
    "core = ov.Core()\n",
    "\n",
    "device = widgets.Dropdown(\n",
    "    options=core.available_devices + [\"AUTO\"],\n",
    "    value='AUTO',\n",
    "    description='Device:',\n",
    "    disabled=False,\n",
    ")\n",
    "\n",
    "device"
   ]
  },
  {
   "cell_type": "code",
   "execution_count": null,
   "id": "b3413867-412b-43ae-98d8-a0ff662b2319",
   "metadata": {
    "tags": []
   },
   "outputs": [],
   "source": [
    "# Initialize OpenVINO Runtime\n",
    "core = ov.Core()\n",
    "# Read the network from a file.\n",
    "model = core.read_model(model_path)\n",
    "# Let the AUTO device decide where to load the model (you can use CPU, GPU as well).\n",
    "compiled_model = core.compile_model(model=model, device_name=device.value, config={\"PERFORMANCE_HINT\": \"LATENCY\"})\n",
    "\n",
    "# Get the input and output names of nodes.\n",
    "input_layer = compiled_model.input(0)\n",
    "output_layers = compiled_model.outputs\n",
    "\n",
    "# Get the input size.\n",
    "height, width = list(input_layer.shape)[2:]"
   ]
  },
  {
   "cell_type": "code",
   "execution_count": null,
   "id": "6ff93a50-d1fd-4dec-85fb-02df75ee5ce6",
   "metadata": {},
   "outputs": [],
   "source": [
    "input_layer.any_name, [o.any_name for o in output_layers]"
   ]
  },
  {
   "cell_type": "markdown",
   "id": "b9529d53-d561-4d2f-8399-3ca0527f964c",
   "metadata": {},
   "source": [
    "## Processing"
   ]
  },
  {
   "cell_type": "markdown",
   "id": "c324e1a3-a7d2-4775-a045-ee94b6c487c0",
   "metadata": {},
   "source": [
    "### OpenPose Decoder\n",
    "To transform the raw results from the neural network into pose estimations, you need OpenPose Decoder. It is provided in the Open Model Zoo and compatible with the human-pose-estimation-0001 model.\r\n",
    "\r\n",
    "If you choose a model other than human-pose-estimation-0001 you will need another decoder (for example, AssociativeEmbeddingDecoder), which is available in the demos section of Open Model Zoo.o."
   ]
  },
  {
   "cell_type": "code",
   "execution_count": null,
   "id": "6a93c10f-9bd4-4e77-a84a-f4732604c467",
   "metadata": {
    "tags": []
   },
   "outputs": [],
   "source": [
    "decoder = OpenPoseDecoder()"
   ]
  },
  {
   "cell_type": "markdown",
   "id": "340a9e91-229c-4e8b-977d-1c3c01ab6897",
   "metadata": {},
   "source": [
    "### Process Results\n",
    "A bunch of useful functions to transform results into poses.\r\n",
    "\r\n",
    "First, pool the heatmap. Since pooling is not available in numpy, use a simple method to do it directly with numpy. Then, use non-maximum suppression to get the keypoints from the heatmap. After that, decode poses by using the decoder. Since the input image is bigger than the network outputs, you need to multiply all pose coordinates by a scaling factor."
   ]
  },
  {
   "cell_type": "code",
   "execution_count": null,
   "id": "2e0d74a3-9e02-4ab7-987f-584313e8b78c",
   "metadata": {},
   "outputs": [],
   "source": [
    "# 2D pooling in numpy (from: https://stackoverflow.com/a/54966908/1624463)\n",
    "def pool2d(A, kernel_size, stride, padding, pool_mode=\"max\"):\n",
    "    \"\"\"\n",
    "    2D Pooling\n",
    "\n",
    "    Parameters:\n",
    "        A: input 2D array\n",
    "        kernel_size: int, the size of the window\n",
    "        stride: int, the stride of the window\n",
    "        padding: int, implicit zero paddings on both sides of the input\n",
    "        pool_mode: string, 'max' or 'avg'\n",
    "    \"\"\"\n",
    "    # Padding\n",
    "    A = np.pad(A, padding, mode=\"constant\")\n",
    "\n",
    "    # Window view of A\n",
    "    output_shape = (\n",
    "        (A.shape[0] - kernel_size) // stride + 1,\n",
    "        (A.shape[1] - kernel_size) // stride + 1,\n",
    "    )\n",
    "    kernel_size = (kernel_size, kernel_size)\n",
    "    A_w = as_strided(\n",
    "        A,\n",
    "        shape=output_shape + kernel_size,\n",
    "        strides=(stride * A.strides[0], stride * A.strides[1]) + A.strides\n",
    "    )\n",
    "    A_w = A_w.reshape(-1, *kernel_size)\n",
    "\n",
    "    # Return the result of pooling.\n",
    "    if pool_mode == \"max\":\n",
    "        return A_w.max(axis=(1, 2)).reshape(output_shape)\n",
    "    elif pool_mode == \"avg\":\n",
    "        return A_w.mean(axis=(1, 2)).reshape(output_shape)"
   ]
  },
  {
   "cell_type": "code",
   "execution_count": null,
   "id": "b76b0389-ceb1-49ba-84d8-7fd6200f78d5",
   "metadata": {},
   "outputs": [],
   "source": [
    "# non maximum suppression\n",
    "def heatmap_nms(heatmaps, pooled_heatmaps):\n",
    "    return heatmaps * (heatmaps == pooled_heatmaps)"
   ]
  },
  {
   "cell_type": "code",
   "execution_count": null,
   "id": "928cd1bb-bbff-42de-a1b2-05a0ee871099",
   "metadata": {},
   "outputs": [],
   "source": [
    "# Get poses from results.\n",
    "def process_results(img, pafs, heatmaps):\n",
    "    # This processing comes from\n",
    "    # https://github.com/openvinotoolkit/open_model_zoo/blob/master/demos/common/python/models/open_pose.py\n",
    "    pooled_heatmaps = np.array(\n",
    "        [[pool2d(h, kernel_size=3, stride=1, padding=1, pool_mode=\"max\") for h in heatmaps[0]]]\n",
    "    )\n",
    "    nms_heatmaps = heatmap_nms(heatmaps, pooled_heatmaps)\n",
    "\n",
    "    # Decode poses.\n",
    "    poses, scores = decoder(heatmaps, nms_heatmaps, pafs)\n",
    "    output_shape = list(compiled_model.output(index=0).partial_shape)\n",
    "    output_scale = img.shape[1] / output_shape[3].get_length(), img.shape[0] / output_shape[2].get_length()\n",
    "    # Multiply coordinates by a scaling factor.\n",
    "    poses[:, :, :2] *= output_scale\n",
    "    return poses, scores"
   ]
  },
  {
   "cell_type": "markdown",
   "id": "b77cbd92-3493-499a-bb0c-3ddea3eab108",
   "metadata": {},
   "source": [
    "## Draw Pose Overlays\n",
    "Draw pose overlays on the image to visualize estimated poses. Joints are drawn as circles and limbs are drawn as lines. The code is based on the Human Pose Estimation Demo from Open Model Zoo."
   ]
  },
  {
   "cell_type": "code",
   "execution_count": null,
   "id": "f6ad1469-2ef2-4990-b3fe-0f01d91e0eb3",
   "metadata": {},
   "outputs": [],
   "source": [
    "colors = ((255, 0, 0), (255, 0, 255), (170, 0, 255), (255, 0, 85), (255, 0, 170), (85, 255, 0),\n",
    "          (255, 170, 0), (0, 255, 0), (255, 255, 0), (0, 255, 85), (170, 255, 0), (0, 85, 255),\n",
    "          (0, 255, 170), (0, 0, 255), (0, 255, 255), (85, 0, 255), (0, 170, 255))\n",
    "\n",
    "default_skeleton = ((15, 13), (13, 11), (16, 14), (14, 12), (11, 12), (5, 11), (6, 12), (5, 6), (5, 7),\n",
    "                    (6, 8), (7, 9), (8, 10), (1, 2), (0, 1), (0, 2), (1, 3), (2, 4), (3, 5), (4, 6))\n",
    "\n",
    "\n",
    "def draw_poses(img, poses, point_score_threshold, skeleton=default_skeleton):\n",
    "    if poses.size == 0:\n",
    "        return img\n",
    "\n",
    "    img_limbs = np.copy(img)\n",
    "    for pose in poses:\n",
    "        points = pose[:, :2].astype(np.int32)\n",
    "        points_scores = pose[:, 2]\n",
    "        # Draw joints.\n",
    "        for i, (p, v) in enumerate(zip(points, points_scores)):\n",
    "            if v > point_score_threshold:\n",
    "                cv2.circle(img, tuple(p), 1, colors[i], 2)\n",
    "        # Draw limbs.\n",
    "        for i, j in skeleton:\n",
    "            if points_scores[i] > point_score_threshold and points_scores[j] > point_score_threshold:\n",
    "                cv2.line(img_limbs, tuple(points[i]), tuple(points[j]), color=colors[j], thickness=4)\n",
    "    cv2.addWeighted(img, 0.4, img_limbs, 0.6, 0, dst=img)\n",
    "    return img"
   ]
  },
  {
   "cell_type": "markdown",
   "id": "2b0c5a70-813b-47ad-a0ca-1c6b2bd6fe9e",
   "metadata": {},
   "source": [
    "## Main Processing Function\n",
    "Run pose estimation on the specified source. Either a webcam or a video file."
   ]
  },
  {
   "cell_type": "code",
   "execution_count": null,
   "id": "e7ea680d-02c4-4065-883c-364223d9d5a5",
   "metadata": {},
   "outputs": [],
   "source": [
    "# Main processing function to run pose estimation.\n",
    "outputExists = False\n",
    "def run_pose_estimation(source, flip=False, use_popup=False, skip_first_frames=0, save=False):\n",
    "    pafs_output_key = compiled_model.output(\"Mconv7_stage2_L1\")\n",
    "    heatmaps_output_key = compiled_model.output(\"Mconv7_stage2_L2\")\n",
    "    player = None\n",
    "    try:\n",
    "        # Create a video player to play with target fps.\n",
    "        player = utils.VideoPlayer(source, flip=flip, fps=30, skip_first_frames=skip_first_frames)\n",
    "        # Start capturing.\n",
    "        player.start()\n",
    "        if use_popup:\n",
    "            title = \"Press ESC to Exit\"\n",
    "            cv2.namedWindow(title, cv2.WINDOW_GUI_NORMAL | cv2.WINDOW_AUTOSIZE)\n",
    "\n",
    "        processing_times = collections.deque()\n",
    "\n",
    "        if save:\n",
    "            file_path = os.path.join(os.path.abspath(os.getcwd()),app.config['UPLOAD_FOLDER'],\"output.mp4\")\n",
    "            if os.path.exists(file_path):\n",
    "                os.remove(file_path)\n",
    "            \n",
    "            global outputExists\n",
    "            outputExists = False\n",
    "            \n",
    "        while True:\n",
    "            # Grab the frame.\n",
    "            frame = player.next()\n",
    "            if frame is None:\n",
    "                print(\"Source ended\")\n",
    "                break\n",
    "            # If the frame is larger than full HD, reduce size to improve the performance.\n",
    "            scale = 1280 / max(frame.shape)\n",
    "            if scale < 1:\n",
    "                frame = cv2.resize(frame, None, fx=scale, fy=scale, interpolation=cv2.INTER_AREA)\n",
    "\n",
    "            # Resize the image and change dims to fit neural network input.\n",
    "            # (see https://github.com/openvinotoolkit/open_model_zoo/tree/master/models/intel/human-pose-estimation-0001)\n",
    "            input_img = cv2.resize(frame, (width, height), interpolation=cv2.INTER_AREA)\n",
    "            # Create a batch of images (size = 1).\n",
    "            input_img = input_img.transpose((2,0,1))[np.newaxis, ...]\n",
    "\n",
    "            # Measure processing time.\n",
    "            start_time = time.time()\n",
    "            # Get results.\n",
    "            results = compiled_model([input_img])\n",
    "            stop_time = time.time()\n",
    "\n",
    "            pafs = results[pafs_output_key]\n",
    "            heatmaps = results[heatmaps_output_key]\n",
    "            # Get poses from network results.\n",
    "            poses, scores = process_results(frame, pafs, heatmaps)\n",
    "\n",
    "            # Draw poses on a frame.\n",
    "            frame = draw_poses(frame, poses, 0.1)\n",
    "\n",
    "            processing_times.append(stop_time - start_time)\n",
    "            # Use processing times from last 200 frames.\n",
    "            if len(processing_times) > 200:\n",
    "                processing_times.popleft()\n",
    "\n",
    "            _, f_width = frame.shape[:2]\n",
    "            # mean processing time [ms]\n",
    "            processing_time = np.mean(processing_times) * 1000\n",
    "            fps = 1000 / processing_time\n",
    "            cv2.putText(frame, f\"Inference time: {processing_time:.1f}ms ({fps:.1f} FPS)\", (20, 40),\n",
    "                        cv2.FONT_HERSHEY_COMPLEX, f_width / 1000, (0, 0, 255), 1, cv2.LINE_AA)\n",
    "\n",
    "            if save:\n",
    "                if not os.path.exists(file_path):\n",
    "                    fps = 20.0\n",
    "                    fourcc = cv2.VideoWriter_fourcc(*'mp4v')\n",
    "                    size = (int(frame.shape[1]), int(frame.shape[0]))\n",
    "                    out = cv2.VideoWriter(file_path, fourcc, fps, size)\n",
    "                    \n",
    "                out.write(frame)\n",
    "            # Use this workaround if there is flickering.\n",
    "            if use_popup:\n",
    "                cv2.imshow(title, frame)\n",
    "                key = cv2.waitKey(1)\n",
    "                # escape = 27\n",
    "                if key == 27:\n",
    "                    break\n",
    "            else:\n",
    "                # Encode numpy array to jpg.\n",
    "                _, encoded_img = cv2.imencode(\".jpg\", frame, params=[cv2.IMWRITE_JPEG_QUALITY, 90])\n",
    "                # Create an IPython image.\n",
    "                # i = display.Image(data=encoded_img)\n",
    "                # # Display the image in this notebook.\n",
    "                # display.clear_output(wait=True)\n",
    "                # display.display(i)\n",
    "                encoded_img = encoded_img.tobytes()\n",
    "                yield (b'--frame\\r\\n'\n",
    "                       b'Content-Type: image/jpeg\\r\\n\\r\\n' + encoded_img + b'\\r\\n')\n",
    "    # ctrl-c\n",
    "    except KeyboardInterrupt:\n",
    "        print(\"Interrupted\")\n",
    "    # any different error\n",
    "    except RuntimeError as e:\n",
    "        print(e)\n",
    "    finally:\n",
    "        if player is not None:\n",
    "            # Stop capturing.\n",
    "            player.stop()\n",
    "        if use_popup:\n",
    "            cv2.destroyAllWindows()\n",
    "            \n",
    "    if save:\n",
    "        out.release()\n",
    "        outputExists = True\n",
    "\n",
    "    # return render_template('show_video_inference.html')"
   ]
  },
  {
   "cell_type": "markdown",
   "id": "bbff2f59-676a-4593-8dbb-34154cb44356",
   "metadata": {},
   "source": [
    "## Run\n"
   ]
  },
  {
   "cell_type": "markdown",
   "id": "2a2a41d0-5452-44ca-b69d-c3640354a7f8",
   "metadata": {},
   "source": [
    "### Run Live Pose Estimation\n",
    "Use a webcam as the video input. By default, the primary webcam is set with source=0. If you have multiple webcams, each one will be assigned a consecutive number starting at 0. Set flip=True when using a front-facing camera. Some web browsers, especially Mozilla Firefox, may cause flickering. If you experience flickering, set use_popup=True.\r\n",
    "\r\n",
    "NOTE: To use this notebook with a webcam, you need to run the notebook on a computer with a webcam. If you run the notebook on a server (for example, Binder), the webcam will not work. Popup mode may not work if you run this notebook on a remote computer (for example, Binder).\r\n",
    "\r\n",
    "If you do not have a webcam, you can still run this demo with a video file. Any format supported by OpenCV will work. You can skip first N frames to fast forward video.\r\n",
    "\r\n",
    "Run the pose estimation:"
   ]
  },
  {
   "cell_type": "raw",
   "id": "859fc0b2-d2a2-4041-8f96-2ed2eba1ae13",
   "metadata": {},
   "source": [
    "USE_WEBCAM = False\n",
    "cam_id = 0\n",
    "#video_file = \"https://github.com/intel-iot-devkit/sample-videos/blob/master/store-aisle-detection.mp4?raw=true\"\n",
    "video_file = \"./static/data/store-aisle-detection.mp4\"\n",
    "source = cam_id if USE_WEBCAM else video_file\n",
    "\n",
    "additional_options = {\"skip_first_frames\": 500} if not USE_WEBCAM else {}\n",
    "run_pose_estimation(source=source, flip=isinstance(source, int), use_popup=False, **additional_options)"
   ]
  },
  {
   "cell_type": "raw",
   "id": "6aca4c8c-7739-44ea-8943-6996713bfce7",
   "metadata": {},
   "source": [
    "USE_WEBCAM = True\n",
    "cam_id = 0\n",
    "#video_file = \"https://github.com/intel-iot-devkit/sample-videos/blob/master/store-aisle-detection.mp4?raw=true\"\n",
    "video_file = \"./static/data/store-aisle-detection.mp4\"\n",
    "source = cam_id if USE_WEBCAM else video_file\n",
    "\n",
    "additional_options = {\"skip_first_frames\": 500} if not USE_WEBCAM else {}\n",
    "run_pose_estimation(source=source, flip=isinstance(source, int), use_popup=False, **additional_options)"
   ]
  },
  {
   "cell_type": "markdown",
   "id": "16efd432-8708-4241-977d-18a857c5e41e",
   "metadata": {},
   "source": [
    "<img src=\"https://flask.palletsprojects.com/en/3.0.x/_images/flask-horizontal.png\">"
   ]
  },
  {
   "cell_type": "markdown",
   "id": "570b33c1-5d2e-47d1-b6c1-acc7ae32b7e7",
   "metadata": {},
   "source": [
    "### Flask configuration\n",
    "<a href=\"https://flask.palletsprojects.com/en/3.0.x/config/\"> Configuration Basics </a>"
   ]
  },
  {
   "cell_type": "code",
   "execution_count": null,
   "id": "85749583-33c6-4021-8f98-faf7851394dc",
   "metadata": {},
   "outputs": [],
   "source": [
    "# Import the necessary libraries to utilize Flask.\n",
    "from flask import Flask, render_template, Response"
   ]
  },
  {
   "cell_type": "code",
   "execution_count": null,
   "id": "a8acdefd-ae9e-4159-adc0-2a5c3df32e7e",
   "metadata": {
    "tags": []
   },
   "outputs": [],
   "source": [
    "app = Flask(__name__)\n",
    "app.config['SECRET_KEY'] = 'random_numbers_and_letters'"
   ]
  },
  {
   "cell_type": "markdown",
   "id": "e33d77da-2ed4-42b8-8357-13f7abe6da92",
   "metadata": {},
   "source": [
    "### Flask Routing\n",
    "<a href=\"https://flask.palletsprojects.com/en/3.0.x/quickstart/#routing\"> Routing </a>"
   ]
  },
  {
   "cell_type": "code",
   "execution_count": null,
   "id": "72a36666-815f-4495-bdf4-ab84ea06a68d",
   "metadata": {
    "tags": []
   },
   "outputs": [],
   "source": [
    "@app.route('/')\n",
    "def index():\n",
    "    return render_template('index.html')"
   ]
  },
  {
   "cell_type": "code",
   "execution_count": null,
   "id": "6f2b4a6c-0108-448a-aaee-fd1cd3ab7001",
   "metadata": {},
   "outputs": [],
   "source": [
    "@app.route(\"/inference_webcam\")\n",
    "def inference_webcam():  \n",
    "    return render_template('webcam.html')"
   ]
  },
  {
   "cell_type": "code",
   "execution_count": null,
   "id": "f131c52a-b7c9-4d08-8530-a05f08650b2f",
   "metadata": {
    "tags": []
   },
   "outputs": [],
   "source": [
    "@app.route('/run_inference_webcam')\n",
    "def run_inference_webcam():  \n",
    "    return Response(run_pose_estimation(source=0), mimetype='multipart/x-mixed-replace; boundary=frame')"
   ]
  },
  {
   "cell_type": "code",
   "execution_count": null,
   "id": "787a8e36-4951-435e-9b9f-f433b35ce7af",
   "metadata": {
    "tags": []
   },
   "outputs": [],
   "source": [
    "if __name__=='__main__':\n",
    "    app.run(host='0.0.0.0', port=8000)"
   ]
  },
  {
   "cell_type": "code",
   "execution_count": null,
   "id": "a1ccc076-cb91-440d-b0b1-bfdc58b50315",
   "metadata": {},
   "outputs": [],
   "source": []
  }
 ],
 "metadata": {
  "kernelspec": {
   "display_name": "Python 3 (ipykernel)",
   "language": "python",
   "name": "python3"
  },
  "language_info": {
   "codemirror_mode": {
    "name": "ipython",
    "version": 3
   },
   "file_extension": ".py",
   "mimetype": "text/x-python",
   "name": "python",
   "nbconvert_exporter": "python",
   "pygments_lexer": "ipython3",
   "version": "3.11.7"
  }
 },
 "nbformat": 4,
 "nbformat_minor": 5
}
