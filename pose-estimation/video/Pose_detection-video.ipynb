{
 "cells": [
  {
   "cell_type": "markdown",
   "id": "381af4d8-5acb-45ef-b77b-5e3ffe98c86d",
   "metadata": {},
   "source": [
    "# Live Human Pose Estimation with OpenVINO™ - Video"
   ]
  },
  {
   "cell_type": "markdown",
   "id": "bcb6bb79-553a-4f87-b56c-c1d3d0c70f60",
   "metadata": {},
   "source": [
    "Pose estimation predicts the 2D position and orientation of each person in an image or a video. Skeletons consisting of 18 predefined key points (joints) and 19 connections between them (limbs) are visualized as an overlay on the images or video."
   ]
  },
  {
   "cell_type": "code",
   "execution_count": 1,
   "id": "2f01cf5d-3a18-4097-9051-13a666c15599",
   "metadata": {},
   "outputs": [],
   "source": [
    "#%pip install -q \"openvino>=2023.1.0\"\n",
    "#%pip install pytube"
   ]
  },
  {
   "cell_type": "markdown",
   "id": "041a90fd-d3ca-4578-858f-dcf8b0875575",
   "metadata": {},
   "source": [
    "## Import libraries"
   ]
  },
  {
   "cell_type": "code",
   "execution_count": 2,
   "id": "ad1504ef-5042-46a1-8b49-89848727bbad",
   "metadata": {
    "tags": []
   },
   "outputs": [],
   "source": [
    "# Import the necessary libraries to utilize OpenVINO.\n",
    "import collections\n",
    "import sys\n",
    "import time\n",
    "from pathlib import Path\n",
    "\n",
    "import cv2\n",
    "import numpy as np\n",
    "from IPython import display\n",
    "from numpy.lib.stride_tricks import as_strided\n",
    "import openvino as ov\n",
    "\n",
    "from decoder import OpenPoseDecoder\n",
    "import utils.notebook_utils as utils"
   ]
  },
  {
   "cell_type": "markdown",
   "id": "ba83af46-8458-4701-91ed-f7095a82d724",
   "metadata": {},
   "source": [
    "## The model"
   ]
  },
  {
   "cell_type": "markdown",
   "id": "bb011baf-726f-4a55-aa02-8c9fa9bcb8dc",
   "metadata": {},
   "source": [
    "### Download the model"
   ]
  },
  {
   "cell_type": "code",
   "execution_count": 3,
   "id": "71621519-61ec-4155-aa00-0050847ca9eb",
   "metadata": {
    "tags": []
   },
   "outputs": [],
   "source": [
    "# A directory where the model will be downloaded.\n",
    "base_model_dir = Path(\"model\")\n",
    "\n",
    "# The name of the model from Open Model Zoo.\n",
    "model_name = \"human-pose-estimation-0001\"\n",
    "# Selected precision (FP32, FP16, FP16-INT8).\n",
    "precision = \"FP16-INT8\"\n",
    "\n",
    "model_path = base_model_dir / f\"{model_name}.xml\"\n",
    "\n",
    "if not model_path.exists():\n",
    "    model_url_dir = f\"https://storage.openvinotoolkit.org/repositories/open_model_zoo/2022.1/models_bin/3/{model_name}/{precision}/\"\n",
    "    utils.download_file(model_url_dir + model_name + '.xml', model_path.name, model_path.parent)\n",
    "    utils.download_file(model_url_dir + model_name + '.bin', model_path.with_suffix('.bin').name, model_path.parent)"
   ]
  },
  {
   "cell_type": "markdown",
   "id": "c7c5ac3a-104e-429e-8778-9c5d00a83813",
   "metadata": {},
   "source": [
    "### Load the model"
   ]
  },
  {
   "cell_type": "code",
   "execution_count": 4,
   "id": "109216cf-b18e-491a-88e5-729675b28f85",
   "metadata": {
    "tags": []
   },
   "outputs": [
    {
     "data": {
      "application/vnd.jupyter.widget-view+json": {
       "model_id": "a168b15330c549879fa677be80d2639b",
       "version_major": 2,
       "version_minor": 0
      },
      "text/plain": [
       "Dropdown(description='Device:', index=2, options=('CPU', 'GPU', 'AUTO'), value='AUTO')"
      ]
     },
     "execution_count": 4,
     "metadata": {},
     "output_type": "execute_result"
    }
   ],
   "source": [
    "# Select the device to use the product or service\n",
    "import ipywidgets as widgets\n",
    "\n",
    "core = ov.Core()\n",
    "\n",
    "device = widgets.Dropdown(\n",
    "    options=core.available_devices + [\"AUTO\"],\n",
    "    value='AUTO',\n",
    "    description='Device:',\n",
    "    disabled=False,\n",
    ")\n",
    "\n",
    "device"
   ]
  },
  {
   "cell_type": "code",
   "execution_count": 5,
   "id": "b3413867-412b-43ae-98d8-a0ff662b2319",
   "metadata": {
    "tags": []
   },
   "outputs": [],
   "source": [
    "# Initialize OpenVINO Runtime\n",
    "core = ov.Core()\n",
    "# Read the network from a file.\n",
    "model = core.read_model(model_path)\n",
    "# Let the AUTO device decide where to load the model (you can use CPU, GPU as well).\n",
    "compiled_model = core.compile_model(model=model, device_name=device.value, config={\"PERFORMANCE_HINT\": \"LATENCY\"})\n",
    "\n",
    "# Get the input and output names of nodes.\n",
    "input_layer = compiled_model.input(0)\n",
    "output_layers = compiled_model.outputs\n",
    "\n",
    "# Get the input size.\n",
    "height, width = list(input_layer.shape)[2:]"
   ]
  },
  {
   "cell_type": "code",
   "execution_count": 6,
   "id": "6ff93a50-d1fd-4dec-85fb-02df75ee5ce6",
   "metadata": {},
   "outputs": [
    {
     "data": {
      "text/plain": [
       "('data', ['Mconv7_stage2_L1', 'Mconv7_stage2_L2'])"
      ]
     },
     "execution_count": 6,
     "metadata": {},
     "output_type": "execute_result"
    }
   ],
   "source": [
    "input_layer.any_name, [o.any_name for o in output_layers]"
   ]
  },
  {
   "cell_type": "markdown",
   "id": "b9529d53-d561-4d2f-8399-3ca0527f964c",
   "metadata": {},
   "source": [
    "## Processing"
   ]
  },
  {
   "cell_type": "markdown",
   "id": "c324e1a3-a7d2-4775-a045-ee94b6c487c0",
   "metadata": {},
   "source": [
    "### OpenPose Decoder\n",
    "To transform the raw results from the neural network into pose estimations, you need OpenPose Decoder. It is provided in the Open Model Zoo and compatible with the human-pose-estimation-0001 model.\r\n",
    "\r\n",
    "If you choose a model other than human-pose-estimation-0001 you will need another decoder (for example, AssociativeEmbeddingDecoder), which is available in the demos section of Open Model Zoo.o."
   ]
  },
  {
   "cell_type": "code",
   "execution_count": 7,
   "id": "6a93c10f-9bd4-4e77-a84a-f4732604c467",
   "metadata": {
    "tags": []
   },
   "outputs": [],
   "source": [
    "decoder = OpenPoseDecoder()"
   ]
  },
  {
   "cell_type": "markdown",
   "id": "340a9e91-229c-4e8b-977d-1c3c01ab6897",
   "metadata": {},
   "source": [
    "### Process Results\n",
    "A bunch of useful functions to transform results into poses.\r\n",
    "\r\n",
    "First, pool the heatmap. Since pooling is not available in numpy, use a simple method to do it directly with numpy. Then, use non-maximum suppression to get the keypoints from the heatmap. After that, decode poses by using the decoder. Since the input image is bigger than the network outputs, you need to multiply all pose coordinates by a scaling factor."
   ]
  },
  {
   "cell_type": "code",
   "execution_count": 8,
   "id": "2e0d74a3-9e02-4ab7-987f-584313e8b78c",
   "metadata": {},
   "outputs": [],
   "source": [
    "# 2D pooling in numpy (from: https://stackoverflow.com/a/54966908/1624463)\n",
    "def pool2d(A, kernel_size, stride, padding, pool_mode=\"max\"):\n",
    "    \"\"\"\n",
    "    2D Pooling\n",
    "\n",
    "    Parameters:\n",
    "        A: input 2D array\n",
    "        kernel_size: int, the size of the window\n",
    "        stride: int, the stride of the window\n",
    "        padding: int, implicit zero paddings on both sides of the input\n",
    "        pool_mode: string, 'max' or 'avg'\n",
    "    \"\"\"\n",
    "    # Padding\n",
    "    A = np.pad(A, padding, mode=\"constant\")\n",
    "\n",
    "    # Window view of A\n",
    "    output_shape = (\n",
    "        (A.shape[0] - kernel_size) // stride + 1,\n",
    "        (A.shape[1] - kernel_size) // stride + 1,\n",
    "    )\n",
    "    kernel_size = (kernel_size, kernel_size)\n",
    "    A_w = as_strided(\n",
    "        A,\n",
    "        shape=output_shape + kernel_size,\n",
    "        strides=(stride * A.strides[0], stride * A.strides[1]) + A.strides\n",
    "    )\n",
    "    A_w = A_w.reshape(-1, *kernel_size)\n",
    "\n",
    "    # Return the result of pooling.\n",
    "    if pool_mode == \"max\":\n",
    "        return A_w.max(axis=(1, 2)).reshape(output_shape)\n",
    "    elif pool_mode == \"avg\":\n",
    "        return A_w.mean(axis=(1, 2)).reshape(output_shape)"
   ]
  },
  {
   "cell_type": "code",
   "execution_count": 9,
   "id": "b76b0389-ceb1-49ba-84d8-7fd6200f78d5",
   "metadata": {},
   "outputs": [],
   "source": [
    "# non maximum suppression\n",
    "def heatmap_nms(heatmaps, pooled_heatmaps):\n",
    "    return heatmaps * (heatmaps == pooled_heatmaps)"
   ]
  },
  {
   "cell_type": "code",
   "execution_count": 10,
   "id": "928cd1bb-bbff-42de-a1b2-05a0ee871099",
   "metadata": {},
   "outputs": [],
   "source": [
    "# Get poses from results.\n",
    "def process_results(img, pafs, heatmaps):\n",
    "    # This processing comes from\n",
    "    # https://github.com/openvinotoolkit/open_model_zoo/blob/master/demos/common/python/models/open_pose.py\n",
    "    pooled_heatmaps = np.array(\n",
    "        [[pool2d(h, kernel_size=3, stride=1, padding=1, pool_mode=\"max\") for h in heatmaps[0]]]\n",
    "    )\n",
    "    nms_heatmaps = heatmap_nms(heatmaps, pooled_heatmaps)\n",
    "\n",
    "    # Decode poses.\n",
    "    poses, scores = decoder(heatmaps, nms_heatmaps, pafs)\n",
    "    output_shape = list(compiled_model.output(index=0).partial_shape)\n",
    "    output_scale = img.shape[1] / output_shape[3].get_length(), img.shape[0] / output_shape[2].get_length()\n",
    "    # Multiply coordinates by a scaling factor.\n",
    "    poses[:, :, :2] *= output_scale\n",
    "    return poses, scores"
   ]
  },
  {
   "cell_type": "markdown",
   "id": "b77cbd92-3493-499a-bb0c-3ddea3eab108",
   "metadata": {},
   "source": [
    "## Draw Pose Overlays\n",
    "Draw pose overlays on the image to visualize estimated poses. Joints are drawn as circles and limbs are drawn as lines. The code is based on the Human Pose Estimation Demo from Open Model Zoo."
   ]
  },
  {
   "cell_type": "code",
   "execution_count": 11,
   "id": "f6ad1469-2ef2-4990-b3fe-0f01d91e0eb3",
   "metadata": {},
   "outputs": [],
   "source": [
    "colors = ((255, 0, 0), (255, 0, 255), (170, 0, 255), (255, 0, 85), (255, 0, 170), (85, 255, 0),\n",
    "          (255, 170, 0), (0, 255, 0), (255, 255, 0), (0, 255, 85), (170, 255, 0), (0, 85, 255),\n",
    "          (0, 255, 170), (0, 0, 255), (0, 255, 255), (85, 0, 255), (0, 170, 255))\n",
    "\n",
    "default_skeleton = ((15, 13), (13, 11), (16, 14), (14, 12), (11, 12), (5, 11), (6, 12), (5, 6), (5, 7),\n",
    "                    (6, 8), (7, 9), (8, 10), (1, 2), (0, 1), (0, 2), (1, 3), (2, 4), (3, 5), (4, 6))\n",
    "\n",
    "\n",
    "def draw_poses(img, poses, point_score_threshold, skeleton=default_skeleton):\n",
    "    if poses.size == 0:\n",
    "        return img\n",
    "\n",
    "    img_limbs = np.copy(img)\n",
    "    for pose in poses:\n",
    "        points = pose[:, :2].astype(np.int32)\n",
    "        points_scores = pose[:, 2]\n",
    "        # Draw joints.\n",
    "        for i, (p, v) in enumerate(zip(points, points_scores)):\n",
    "            if v > point_score_threshold:\n",
    "                cv2.circle(img, tuple(p), 1, colors[i], 2)\n",
    "        # Draw limbs.\n",
    "        for i, j in skeleton:\n",
    "            if points_scores[i] > point_score_threshold and points_scores[j] > point_score_threshold:\n",
    "                cv2.line(img_limbs, tuple(points[i]), tuple(points[j]), color=colors[j], thickness=4)\n",
    "    cv2.addWeighted(img, 0.4, img_limbs, 0.6, 0, dst=img)\n",
    "    return img"
   ]
  },
  {
   "cell_type": "markdown",
   "id": "2b0c5a70-813b-47ad-a0ca-1c6b2bd6fe9e",
   "metadata": {},
   "source": [
    "## Main Processing Function\n",
    "Run pose estimation on the specified source. Either a webcam or a video file."
   ]
  },
  {
   "cell_type": "code",
   "execution_count": 12,
   "id": "e7ea680d-02c4-4065-883c-364223d9d5a5",
   "metadata": {},
   "outputs": [],
   "source": [
    "# Main processing function to run pose estimation.\n",
    "outputExists = False\n",
    "def run_pose_estimation(source, flip=False, use_popup=False, skip_first_frames=0, save=False):\n",
    "    pafs_output_key = compiled_model.output(\"Mconv7_stage2_L1\")\n",
    "    heatmaps_output_key = compiled_model.output(\"Mconv7_stage2_L2\")\n",
    "    player = None\n",
    "    try:\n",
    "        # Create a video player to play with target fps.\n",
    "        player = utils.VideoPlayer(source, flip=flip, fps=30, skip_first_frames=skip_first_frames)\n",
    "        # Start capturing.\n",
    "        player.start()\n",
    "        if use_popup:\n",
    "            title = \"Press ESC to Exit\"\n",
    "            cv2.namedWindow(title, cv2.WINDOW_GUI_NORMAL | cv2.WINDOW_AUTOSIZE)\n",
    "\n",
    "        processing_times = collections.deque()\n",
    "\n",
    "        if save:\n",
    "            file_path = os.path.join(os.path.abspath(os.getcwd()),app.config['UPLOAD_FOLDER'],\"output.mp4\")\n",
    "            if os.path.exists(file_path):\n",
    "                os.remove(file_path)\n",
    "            \n",
    "            global outputExists\n",
    "            outputExists = False\n",
    "            \n",
    "        while True:\n",
    "            # Grab the frame.\n",
    "            frame = player.next()\n",
    "            if frame is None:\n",
    "                print(\"Source ended\")\n",
    "                break\n",
    "            # If the frame is larger than full HD, reduce size to improve the performance.\n",
    "            scale = 1280 / max(frame.shape)\n",
    "            if scale < 1:\n",
    "                frame = cv2.resize(frame, None, fx=scale, fy=scale, interpolation=cv2.INTER_AREA)\n",
    "\n",
    "            # Resize the image and change dims to fit neural network input.\n",
    "            # (see https://github.com/openvinotoolkit/open_model_zoo/tree/master/models/intel/human-pose-estimation-0001)\n",
    "            input_img = cv2.resize(frame, (width, height), interpolation=cv2.INTER_AREA)\n",
    "            # Create a batch of images (size = 1).\n",
    "            input_img = input_img.transpose((2,0,1))[np.newaxis, ...]\n",
    "\n",
    "            # Measure processing time.\n",
    "            start_time = time.time()\n",
    "            # Get results.\n",
    "            results = compiled_model([input_img])\n",
    "            stop_time = time.time()\n",
    "\n",
    "            pafs = results[pafs_output_key]\n",
    "            heatmaps = results[heatmaps_output_key]\n",
    "            # Get poses from network results.\n",
    "            poses, scores = process_results(frame, pafs, heatmaps)\n",
    "\n",
    "            # Draw poses on a frame.\n",
    "            frame = draw_poses(frame, poses, 0.1)\n",
    "\n",
    "            processing_times.append(stop_time - start_time)\n",
    "            # Use processing times from last 200 frames.\n",
    "            if len(processing_times) > 200:\n",
    "                processing_times.popleft()\n",
    "\n",
    "            _, f_width = frame.shape[:2]\n",
    "            # mean processing time [ms]\n",
    "            processing_time = np.mean(processing_times) * 1000\n",
    "            fps = 1000 / processing_time\n",
    "            cv2.putText(frame, f\"Inference time: {processing_time:.1f}ms ({fps:.1f} FPS)\", (20, 40),\n",
    "                        cv2.FONT_HERSHEY_COMPLEX, f_width / 1000, (0, 0, 255), 1, cv2.LINE_AA)\n",
    "\n",
    "            if save:\n",
    "                if not os.path.exists(file_path):\n",
    "                    fps = 20.0\n",
    "                    fourcc = cv2.VideoWriter_fourcc(*'mp4v')\n",
    "                    size = (int(frame.shape[1]), int(frame.shape[0]))\n",
    "                    out = cv2.VideoWriter(file_path, fourcc, fps, size)\n",
    "                    \n",
    "                out.write(frame)\n",
    "            # Use this workaround if there is flickering.\n",
    "            if use_popup:\n",
    "                cv2.imshow(title, frame)\n",
    "                key = cv2.waitKey(1)\n",
    "                # escape = 27\n",
    "                if key == 27:\n",
    "                    break\n",
    "            else:\n",
    "                # Encode numpy array to jpg.\n",
    "                _, encoded_img = cv2.imencode(\".jpg\", frame, params=[cv2.IMWRITE_JPEG_QUALITY, 90])\n",
    "                # Create an IPython image.\n",
    "                # i = display.Image(data=encoded_img)\n",
    "                # # Display the image in this notebook.\n",
    "                # display.clear_output(wait=True)\n",
    "                # display.display(i)\n",
    "                encoded_img = encoded_img.tobytes()\n",
    "                yield (b'--frame\\r\\n'\n",
    "                       b'Content-Type: image/jpeg\\r\\n\\r\\n' + encoded_img + b'\\r\\n')\n",
    "    # ctrl-c\n",
    "    except KeyboardInterrupt:\n",
    "        print(\"Interrupted\")\n",
    "    # any different error\n",
    "    except RuntimeError as e:\n",
    "        print(e)\n",
    "    finally:\n",
    "        if player is not None:\n",
    "            # Stop capturing.\n",
    "            player.stop()\n",
    "        if use_popup:\n",
    "            cv2.destroyAllWindows()\n",
    "            \n",
    "    if save:\n",
    "        out.release()\n",
    "        outputExists = True\n",
    "\n",
    "    # return render_template('show_video_inference.html')"
   ]
  },
  {
   "cell_type": "markdown",
   "id": "bbff2f59-676a-4593-8dbb-34154cb44356",
   "metadata": {},
   "source": [
    "## Run\n"
   ]
  },
  {
   "cell_type": "markdown",
   "id": "2a2a41d0-5452-44ca-b69d-c3640354a7f8",
   "metadata": {},
   "source": [
    "### Run Live Pose Estimation\n",
    "Use a webcam as the video input. By default, the primary webcam is set with source=0. If you have multiple webcams, each one will be assigned a consecutive number starting at 0. Set flip=True when using a front-facing camera. Some web browsers, especially Mozilla Firefox, may cause flickering. If you experience flickering, set use_popup=True.\r\n",
    "\r\n",
    "NOTE: To use this notebook with a webcam, you need to run the notebook on a computer with a webcam. If you run the notebook on a server (for example, Binder), the webcam will not work. Popup mode may not work if you run this notebook on a remote computer (for example, Binder).\r\n",
    "\r\n",
    "If you do not have a webcam, you can still run this demo with a video file. Any format supported by OpenCV will work. You can skip first N frames to fast forward video.\r\n",
    "\r\n",
    "Run the pose estimation:"
   ]
  },
  {
   "cell_type": "raw",
   "id": "859fc0b2-d2a2-4041-8f96-2ed2eba1ae13",
   "metadata": {},
   "source": [
    "USE_WEBCAM = False\n",
    "cam_id = 0\n",
    "#video_file = \"https://github.com/intel-iot-devkit/sample-videos/blob/master/store-aisle-detection.mp4?raw=true\"\n",
    "video_file = \"./static/data/store-aisle-detection.mp4\"\n",
    "source = cam_id if USE_WEBCAM else video_file\n",
    "\n",
    "additional_options = {\"skip_first_frames\": 500} if not USE_WEBCAM else {}\n",
    "run_pose_estimation(source=source, flip=isinstance(source, int), use_popup=False, **additional_options)"
   ]
  },
  {
   "cell_type": "raw",
   "id": "6aca4c8c-7739-44ea-8943-6996713bfce7",
   "metadata": {},
   "source": [
    "USE_WEBCAM = True\n",
    "cam_id = 0\n",
    "#video_file = \"https://github.com/intel-iot-devkit/sample-videos/blob/master/store-aisle-detection.mp4?raw=true\"\n",
    "video_file = \"./static/data/store-aisle-detection.mp4\"\n",
    "source = cam_id if USE_WEBCAM else video_file\n",
    "\n",
    "additional_options = {\"skip_first_frames\": 500} if not USE_WEBCAM else {}\n",
    "run_pose_estimation(source=source, flip=isinstance(source, int), use_popup=False, **additional_options)"
   ]
  },
  {
   "cell_type": "markdown",
   "id": "16efd432-8708-4241-977d-18a857c5e41e",
   "metadata": {},
   "source": [
    "<img src=\"https://flask.palletsprojects.com/en/3.0.x/_images/flask-horizontal.png\">\n",
    "## Flask"
   ]
  },
  {
   "cell_type": "markdown",
   "id": "570b33c1-5d2e-47d1-b6c1-acc7ae32b7e7",
   "metadata": {},
   "source": [
    "### Flask configuration\n",
    "<a href=\"https://flask.palletsprojects.com/en/3.0.x/config/\"> Configuration Basics </a>"
   ]
  },
  {
   "cell_type": "code",
   "execution_count": 13,
   "id": "3b8e159b-f674-4ea8-a63b-c64944fafd82",
   "metadata": {},
   "outputs": [],
   "source": [
    "# Import the necessary libraries to utilize Flask.\n",
    "from flask import Flask, render_template, session, send_file, Response, send_from_directory, request\n",
    "from flask_wtf import FlaskForm\n",
    "from wtforms import FileField, SubmitField\n",
    "from wtforms.validators import InputRequired\n",
    "\n",
    "# Import the necessary libraries to utilize URL.\n",
    "from urllib.parse import urlparse\n",
    "from urllib.request import urlretrieve\n",
    "from pytube import YouTube\n",
    "\n",
    "import os\n",
    "from functools import wraps"
   ]
  },
  {
   "cell_type": "code",
   "execution_count": 14,
   "id": "a8acdefd-ae9e-4159-adc0-2a5c3df32e7e",
   "metadata": {
    "tags": []
   },
   "outputs": [],
   "source": [
    "app = Flask(__name__)\n",
    "app.config['SECRET_KEY'] = 'random_numbers_and_letters'\n",
    "app.config['UPLOAD_FOLDER'] = 'static\\data'"
   ]
  },
  {
   "cell_type": "markdown",
   "id": "e33d77da-2ed4-42b8-8357-13f7abe6da92",
   "metadata": {},
   "source": [
    "### Flask Routing\n",
    "<a href=\"https://flask.palletsprojects.com/en/3.0.x/quickstart/#routing\"> Routing </a>"
   ]
  },
  {
   "cell_type": "code",
   "execution_count": 15,
   "id": "2483aa87-bf9c-40e3-97f2-9d59bd9487c2",
   "metadata": {},
   "outputs": [],
   "source": [
    "def inputready(func):\n",
    "    @wraps(func)\n",
    "    def wrapper(*args, **kwargs):\n",
    "        path = os.path.join(os.path.abspath(os.getcwd()), app.config['UPLOAD_FOLDER'],\"input.mp4\")\n",
    "        if os.path.exists(path):\n",
    "            os.remove(path)\n",
    "        return func(*args, **kwargs)\n",
    "    return wrapper"
   ]
  },
  {
   "cell_type": "code",
   "execution_count": 16,
   "id": "abc09df1-722d-41d0-8542-4cc44cdf07fe",
   "metadata": {
    "tags": []
   },
   "outputs": [],
   "source": [
    "class UploadFileForm(FlaskForm):\n",
    "    file = FileField(\"File\", validators = [InputRequired()])\n",
    "    submit = SubmitField(\"Submit\")"
   ]
  },
  {
   "cell_type": "code",
   "execution_count": 17,
   "id": "72a36666-815f-4495-bdf4-ab84ea06a68d",
   "metadata": {
    "tags": []
   },
   "outputs": [],
   "source": [
    "@app.route('/', methods=['GET', 'POST'])\n",
    "@inputready\n",
    "def index():\n",
    "    form = UploadFileForm() \n",
    "    \n",
    "    if form.validate_on_submit(): \n",
    "        file = form.file.data\n",
    "        file_type = str(os.path.splitext(file.filename)[1])\n",
    "        session['file_type'] = file_type\n",
    "         \n",
    "        if file_type in {'.mp4'}: \n",
    "            file_path = os.path.join(os.path.abspath(os.getcwd()), app.config['UPLOAD_FOLDER'],\"input.mp4\") \n",
    "            file.save(file_path)\n",
    "            return inference_video()\n",
    "        \n",
    "    return render_template('index.html', form = form)"
   ]
  },
  {
   "cell_type": "code",
   "execution_count": 18,
   "id": "97a57b33-eacd-42d7-83ae-70f4e1c87e6c",
   "metadata": {},
   "outputs": [],
   "source": [
    "@app.route(\"/inference_url\", methods=['GET', 'POST'])\n",
    "@inputready\n",
    "def inference_url():    \n",
    "    url = request.form['url']\n",
    "    path = os.path.join(os.path.abspath(os.getcwd()), app.config['UPLOAD_FOLDER'])\n",
    "    \n",
    "    if \"youtube\" in urlparse(url).netloc:\n",
    "        download_video_from_youtube(url, path)\n",
    "    else:\n",
    "        urlretrieve(url, os.path.join(path, 'input.mp4'))\n",
    "\n",
    "    return inference_video()"
   ]
  },
  {
   "cell_type": "code",
   "execution_count": 19,
   "id": "c057767a-160e-4b37-b8d2-287aa8151b90",
   "metadata": {},
   "outputs": [],
   "source": [
    "def download_video_from_youtube(link, path):\n",
    "    yt = YouTube(link)\n",
    "    video = yt.streams.get_highest_resolution()\n",
    "\n",
    "    video.download(output_path=path, filename='input.mp4')"
   ]
  },
  {
   "cell_type": "code",
   "execution_count": 20,
   "id": "b8e080b1-67a1-42f6-8031-32a1f8794cd7",
   "metadata": {},
   "outputs": [],
   "source": [
    "@app.route(\"/inference_video\")\n",
    "def inference_video():    \n",
    "    return render_template('show_video_inference.html')"
   ]
  },
  {
   "cell_type": "code",
   "execution_count": 21,
   "id": "37655ed3-dc06-4271-9092-186a3a5395f7",
   "metadata": {
    "tags": []
   },
   "outputs": [],
   "source": [
    "@app.route('/run_inference_video')\n",
    "def run_inference_video():\n",
    "    video_file = os.path.join(os.path.abspath(os.getcwd()), app.config['UPLOAD_FOLDER'],\"input.mp4\")\n",
    "    return Response(run_pose_estimation(source=video_file, save=True), mimetype='multipart/x-mixed-replace; boundary=frame')"
   ]
  },
  {
   "cell_type": "code",
   "execution_count": 22,
   "id": "6c5c8aa8-4b80-4104-ad62-966c8b462d84",
   "metadata": {},
   "outputs": [],
   "source": [
    "@app.route(\"/download_exists\")\n",
    "def download_exists():\n",
    "    global outputExists\n",
    "    if outputExists:\n",
    "        return \"OK\", 200\n",
    "    return \"not yet\", 403"
   ]
  },
  {
   "cell_type": "code",
   "execution_count": 23,
   "id": "3d485d4f-242a-4e32-b21c-0c9e376ed5c2",
   "metadata": {},
   "outputs": [],
   "source": [
    "@app.route(\"/download_output\")\n",
    "def download_output():\n",
    "    global outputExists\n",
    "    if outputExists:\n",
    "        return send_from_directory(directory=app.config['UPLOAD_FOLDER'], path=\"output.mp4\", as_attachment=True)\n",
    "    return \"not yet\", 403"
   ]
  },
  {
   "cell_type": "code",
   "execution_count": null,
   "id": "787a8e36-4951-435e-9b9f-f433b35ce7af",
   "metadata": {
    "tags": []
   },
   "outputs": [
    {
     "name": "stdout",
     "output_type": "stream",
     "text": [
      " * Serving Flask app '__main__'\n",
      " * Debug mode: off\n"
     ]
    },
    {
     "name": "stderr",
     "output_type": "stream",
     "text": [
      "WARNING: This is a development server. Do not use it in a production deployment. Use a production WSGI server instead.\n",
      " * Running on all addresses (0.0.0.0)\n",
      " * Running on http://127.0.0.1:8000\n",
      " * Running on http://10.2.27.215:8000\n",
      "Press CTRL+C to quit\n"
     ]
    }
   ],
   "source": [
    "if __name__=='__main__':\n",
    "    app.run(host='0.0.0.0', port=8000)"
   ]
  },
  {
   "cell_type": "code",
   "execution_count": null,
   "id": "a1ccc076-cb91-440d-b0b1-bfdc58b50315",
   "metadata": {},
   "outputs": [],
   "source": []
  }
 ],
 "metadata": {
  "kernelspec": {
   "display_name": "Python 3 (ipykernel)",
   "language": "python",
   "name": "python3"
  },
  "language_info": {
   "codemirror_mode": {
    "name": "ipython",
    "version": 3
   },
   "file_extension": ".py",
   "mimetype": "text/x-python",
   "name": "python",
   "nbconvert_exporter": "python",
   "pygments_lexer": "ipython3",
   "version": "3.11.7"
  }
 },
 "nbformat": 4,
 "nbformat_minor": 5
}
